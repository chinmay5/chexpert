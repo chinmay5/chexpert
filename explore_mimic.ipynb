{
 "cells": [
  {
   "cell_type": "code",
   "execution_count": 2,
   "metadata": {},
   "outputs": [],
   "source": [
    "import os\n",
    "import pandas as pd"
   ]
  },
  {
   "cell_type": "code",
   "execution_count": 3,
   "metadata": {},
   "outputs": [
    {
     "name": "stdout",
     "output_type": "stream",
     "text": [
      "# patients: 65379\n"
     ]
    }
   ],
   "source": [
    "data_dir = '/mnt/data-c314/asekuboyina/mimic_cxr/physionet.org/files/mimic-cxr-jpg/2.0.0'\n",
    "\n",
    "sub_dirs = [os.path.join(data_dir + '/files', x) for x in os.listdir(data_dir + '/files')]\n",
    "sub_dirs = [x for x in sub_dirs if os.path.isdir(x)]  # filter out 'index.html'\n",
    "\n",
    "patient_dirs = []\n",
    "patient_ids  = []\n",
    "\n",
    "for sub_dir in sub_dirs:\n",
    "    \n",
    "    temp_dirs = os.listdir(sub_dir)\n",
    "    \n",
    "    for x in temp_dirs:\n",
    "        \n",
    "        if '.html' not in x:\n",
    "            \n",
    "            patient_dirs.append(os.path.join(sub_dir, x))\n",
    "            patient_ids.append(x)\n",
    "    \n",
    "print('# patients:', len(patient_ids))"
   ]
  },
  {
   "cell_type": "code",
   "execution_count": 4,
   "metadata": {},
   "outputs": [
    {
     "data": {
      "text/plain": [
       "'dict structure:\\npatient_id\\n|\\n --- path:\\n|\\n --- studies: {study_id: {\\n                          images: {\\n                                    dicom_id: {\\n                                                path:\\n                                                view:\\n                                              } \\n                                    \\n                                  } \\n                          labels:\\n                          report_path:  \\n                          }}\\n'"
      ]
     },
     "execution_count": 4,
     "metadata": {},
     "output_type": "execute_result"
    }
   ],
   "source": [
    "\"\"\"dict structure:\n",
    "patient_id\n",
    "|\n",
    " --- path:\n",
    "|\n",
    " --- studies: {study_id: {\n",
    "                          images: {\n",
    "                                    dicom_id: {\n",
    "                                                path:\n",
    "                                                view:\n",
    "                                              } \n",
    "                                    \n",
    "                                  } \n",
    "                          labels:\n",
    "                          report_path:  \n",
    "                          }}\n",
    "\"\"\""
   ]
  },
  {
   "cell_type": "code",
   "execution_count": 5,
   "metadata": {},
   "outputs": [
    {
     "name": "stdout",
     "output_type": "stream",
     "text": [
      "LABEL_KEYS: ['Atelectasis', 'Cardiomegaly', 'Consolidation', 'Edema', 'Enlarged Cardiomediastinum', 'Fracture', 'Lung Lesion', 'Lung Opacity', 'No Finding', 'Pleural Effusion', 'Pleural Other', 'Pneumonia', 'Pneumothorax', 'Support Devices']\n"
     ]
    }
   ],
   "source": [
    "# -- metadata\n",
    "metadata_file = os.path.join(data_dir, 'mimic-cxr-2.0.0-metadata.csv')\n",
    "df_metadata   = pd.read_csv(metadata_file)\n",
    "\n",
    "# -- chexpert labels\n",
    "labels_file_chexpert = os.path.join(data_dir, 'mimic-cxr-2.0.0-chexpert.csv')\n",
    "df_chexpert_labels   = pd.read_csv(labels_file_chexpert)\n",
    "label_keys           = list(df_chexpert_labels.columns[2:])\n",
    "print('LABEL_KEYS:', label_keys)\n",
    "\n",
    "# -- report paths\n",
    "reports_dir  = os.path.join(data_dir, 'mimic-cxr-reports')\n",
    "report_paths = []\n",
    "report_ids   = []\n",
    "\n",
    "for root, dirs, files in os.walk(reports_dir):\n",
    "    for file in files:\n",
    "        if file.endswith(\".txt\"):\n",
    "            report_paths.append(os.path.join(root, file))\n",
    "            report_ids.append(os.path.splitext(file)[0])"
   ]
  },
  {
   "cell_type": "code",
   "execution_count": 6,
   "metadata": {},
   "outputs": [],
   "source": [
    "mimic_dict = {}"
   ]
  },
  {
   "cell_type": "code",
   "execution_count": 7,
   "metadata": {},
   "outputs": [],
   "source": [
    "def get_images_dict(study_dir):\n",
    "    \n",
    "    im_paths = [os.path.join(study_dir, x) for x in os.listdir(study_dir) if x.endswith('.jpg')]\n",
    "    \n",
    "    images_dict = {}\n",
    "    \n",
    "    for im_path in im_paths:\n",
    "        \n",
    "        dicom_id = os.path.splitext(os.path.basename(im_path))[0]\n",
    "        \n",
    "        im_view  = df_metadata.loc[df_metadata['dicom_id'] ==dicom_id]['ViewPosition'].values[0]\n",
    "                \n",
    "        images_dict[dicom_id] = {\n",
    "                                    'path': im_path,\n",
    "                                    'view': im_view\n",
    "                                }\n",
    "        \n",
    "    return images_dict\n",
    "\n",
    "\n",
    "def get_labels(patient_id, study_id):\n",
    "    df_temp_patient = df_chexpert_labels.loc[df_chexpert_labels['subject_id'] == int(patient_id[1:])] \n",
    "    labels = df_temp_patient.loc[df_temp_patient['study_id'] == int(study_id[1:])].values[0][2:] # remove 's' from study id\n",
    "\n",
    "    return labels\n",
    "\n",
    "def get_report_path(study_id):\n",
    "    \n",
    "    index = report_ids.index(study_id)\n",
    "    \n",
    "    return report_paths[index]"
   ]
  },
  {
   "cell_type": "code",
   "execution_count": null,
   "metadata": {},
   "outputs": [
    {
     "name": "stdout",
     "output_type": "stream",
     "text": [
      "--- 5009 ---\n",
      "p17603668\n",
      "index 0 is out of bounds for axis 0 with size 0\n"
     ]
    }
   ],
   "source": [
    "error_ids = []\n",
    "\n",
    "for idx, (patient_id, patient_dir) in enumerate(zip(patient_ids, patient_dirs)):\n",
    "    \n",
    "    # path\n",
    "    mimic_dict[patient_id] = {'path': patient_dir}\n",
    "    \n",
    "    try:\n",
    "        # study dict\n",
    "        study_ids = os.listdir(patient_dir)\n",
    "\n",
    "        studies_dict = {}\n",
    "\n",
    "        for study_id in study_ids:\n",
    "            study_dir = os.path.join(patient_dir, study_id)\n",
    "            if os.path.isdir(study_dir):\n",
    "                studies_dict[study_id] = {}\n",
    "\n",
    "                studies_dict[study_id]['images'] = get_images_dict(study_dir)\n",
    "                studies_dict[study_id]['labels'] = get_labels(patient_id, study_id)\n",
    "                studies_dict[study_id]['report_path'] = get_report_path(study_id) \n",
    "\n",
    "        mimic_dict[patient_id]['studies'] = studies_dict\n",
    "        \n",
    "    except Exception as e:\n",
    "        print('--- {} ---'.format(idx))\n",
    "        print(patient_id)\n",
    "        print(e)\n",
    "        error_ids.append(patient_id)"
   ]
  },
  {
   "cell_type": "code",
   "execution_count": 14,
   "metadata": {},
   "outputs": [
    {
     "name": "stdout",
     "output_type": "stream",
     "text": [
      "8\n"
     ]
    }
   ],
   "source": [
    "count = 0\n",
    "for key in mimic_dict.keys():\n",
    "    if 'studies' not in mimic_dict[key].keys():\n",
    "        count += 1\n",
    "        \n",
    "        \n",
    "print(count)"
   ]
  },
  {
   "cell_type": "code",
   "execution_count": 9,
   "metadata": {},
   "outputs": [
    {
     "data": {
      "text/plain": [
       "{'path': '/mnt/data-c314/asekuboyina/mimic_cxr/physionet.org/files/mimic-cxr-jpg/2.0.0/files/p17/p17801051',\n",
       " 'studies': {'s59599946': {'images': {'72b904df-688f1711-e4916b95-c16ea3a7-0ff7585f': {'path': '/mnt/data-c314/asekuboyina/mimic_cxr/physionet.org/files/mimic-cxr-jpg/2.0.0/files/p17/p17801051/s59599946/72b904df-688f1711-e4916b95-c16ea3a7-0ff7585f.jpg',\n",
       "     'view': 'AP'}},\n",
       "   'labels': array([nan, nan, nan, nan, nan, nan, nan, nan, nan, nan, nan,  1., nan,\n",
       "          nan]),\n",
       "   'report_path': '/mnt/data-c314/asekuboyina/mimic_cxr/physionet.org/files/mimic-cxr-jpg/2.0.0/mimic-cxr-reports/p17/p17801051/s59599946.txt'},\n",
       "  's57585076': {'images': {'4b34b80b-e4ee6ca3-ff7858ee-f746656e-73552c59': {'path': '/mnt/data-c314/asekuboyina/mimic_cxr/physionet.org/files/mimic-cxr-jpg/2.0.0/files/p17/p17801051/s57585076/4b34b80b-e4ee6ca3-ff7858ee-f746656e-73552c59.jpg',\n",
       "     'view': 'AP'}},\n",
       "   'labels': array([nan,  0., nan,  1., nan, nan, nan,  1., nan,  1., nan,  1.,  0.,\n",
       "           1.]),\n",
       "   'report_path': '/mnt/data-c314/asekuboyina/mimic_cxr/physionet.org/files/mimic-cxr-jpg/2.0.0/mimic-cxr-reports/p17/p17801051/s57585076.txt'},\n",
       "  's57450288': {'images': {'c0b80d74-63d1f82d-21cc6d5a-e7d8aa5c-c84f28bc': {'path': '/mnt/data-c314/asekuboyina/mimic_cxr/physionet.org/files/mimic-cxr-jpg/2.0.0/files/p17/p17801051/s57450288/c0b80d74-63d1f82d-21cc6d5a-e7d8aa5c-c84f28bc.jpg',\n",
       "     'view': 'PA'},\n",
       "    '4a258f0d-c1ae3a6b-d1f9c0e3-f2513d7c-ab76e032': {'path': '/mnt/data-c314/asekuboyina/mimic_cxr/physionet.org/files/mimic-cxr-jpg/2.0.0/files/p17/p17801051/s57450288/4a258f0d-c1ae3a6b-d1f9c0e3-f2513d7c-ab76e032.jpg',\n",
       "     'view': 'LATERAL'}},\n",
       "   'labels': array([ 1., nan, nan, nan, nan, nan, nan, nan, nan, nan, nan, nan, nan,\n",
       "          nan]),\n",
       "   'report_path': '/mnt/data-c314/asekuboyina/mimic_cxr/physionet.org/files/mimic-cxr-jpg/2.0.0/mimic-cxr-reports/p17/p17801051/s57450288.txt'},\n",
       "  's58860478': {'images': {'bd565d8e-13e982db-57cf66d2-a248af58-922ce948': {'path': '/mnt/data-c314/asekuboyina/mimic_cxr/physionet.org/files/mimic-cxr-jpg/2.0.0/files/p17/p17801051/s58860478/bd565d8e-13e982db-57cf66d2-a248af58-922ce948.jpg',\n",
       "     'view': nan},\n",
       "    '4c3beab6-5f5587e3-26bd212d-0ca2adf0-883f4493': {'path': '/mnt/data-c314/asekuboyina/mimic_cxr/physionet.org/files/mimic-cxr-jpg/2.0.0/files/p17/p17801051/s58860478/4c3beab6-5f5587e3-26bd212d-0ca2adf0-883f4493.jpg',\n",
       "     'view': nan}},\n",
       "   'labels': array([nan,  0., nan,  0., nan, nan, nan, nan,  1.,  0., nan,  0., nan,\n",
       "           0.]),\n",
       "   'report_path': '/mnt/data-c314/asekuboyina/mimic_cxr/physionet.org/files/mimic-cxr-jpg/2.0.0/mimic-cxr-reports/p17/p17801051/s58860478.txt'},\n",
       "  's53205298': {'images': {'f7b27159-f826668a-f22b4fb3-82bd7125-423662ec': {'path': '/mnt/data-c314/asekuboyina/mimic_cxr/physionet.org/files/mimic-cxr-jpg/2.0.0/files/p17/p17801051/s53205298/f7b27159-f826668a-f22b4fb3-82bd7125-423662ec.jpg',\n",
       "     'view': 'PA'},\n",
       "    'db524b52-9da5c43b-db87c5f4-3f3404a5-a3f22488': {'path': '/mnt/data-c314/asekuboyina/mimic_cxr/physionet.org/files/mimic-cxr-jpg/2.0.0/files/p17/p17801051/s53205298/db524b52-9da5c43b-db87c5f4-3f3404a5-a3f22488.jpg',\n",
       "     'view': 'LL'}},\n",
       "   'labels': array([nan, nan, nan, nan, nan, nan, nan, nan,  1., nan, nan, nan, nan,\n",
       "          nan]),\n",
       "   'report_path': '/mnt/data-c314/asekuboyina/mimic_cxr/physionet.org/files/mimic-cxr-jpg/2.0.0/mimic-cxr-reports/p17/p17801051/s53205298.txt'}}}"
      ]
     },
     "execution_count": 9,
     "metadata": {},
     "output_type": "execute_result"
    }
   ],
   "source": [
    "list(mimic_dict.keys())[42]\n",
    "list(mimic_dict.values())[42]"
   ]
  },
  {
   "cell_type": "code",
   "execution_count": null,
   "metadata": {},
   "outputs": [],
   "source": [
    "with open('mimic_dict.pickle', 'wb') as handle:\n",
    "    pickle.dump(a, handle, protocol=pickle.HIGHEST_PROTOCOL)"
   ]
  }
 ],
 "metadata": {
  "kernelspec": {
   "display_name": "Python 3",
   "language": "python",
   "name": "python3"
  },
  "language_info": {
   "codemirror_mode": {
    "name": "ipython",
    "version": 3
   },
   "file_extension": ".py",
   "mimetype": "text/x-python",
   "name": "python",
   "nbconvert_exporter": "python",
   "pygments_lexer": "ipython3",
   "version": "3.6.3"
  }
 },
 "nbformat": 4,
 "nbformat_minor": 4
}
